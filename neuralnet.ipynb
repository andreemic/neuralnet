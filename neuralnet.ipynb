{
 "cells": [
  {
   "cell_type": "markdown",
   "id": "db796a19",
   "metadata": {},
   "source": [
    "# A feed-forward neural network from scratch"
   ]
  },
  {
   "cell_type": "markdown",
   "id": "ff7feb15",
   "metadata": {},
   "source": [
    "## Helper functions"
   ]
  },
  {
   "cell_type": "code",
   "execution_count": 52,
   "id": "fb864917",
   "metadata": {},
   "outputs": [],
   "source": [
    "import numpy as np\n",
    "import math\n",
    "import random\n",
    "from tqdm.notebook import tqdm\n",
    "\n",
    "from matplotlib import pyplot\n",
    "\n",
    "def sigmoid(x):\n",
    "    if isinstance(x, np.ndarray):\n",
    "        return np.array([sigmoid(_x) for _x in x])\n",
    "    return 1 / (1 + math.exp(-x))\n",
    "def sigmoid_prime(x):\n",
    "    if isinstance(x, np.ndarray):\n",
    "        return np.array([sigmoid_prime(_x) for _x in x])\n",
    "    return sigmoid(x)*(1-sigmoid(x))\n",
    "\n",
    "# add two arrays element-by-element\n",
    "def add_arrays(a1, a2):\n",
    "    return [x1 + x2 for x1, x2 in zip(a1, a2)]\n",
    "\n",
    "# couldn't figure out how to cleanly multiply vectors as matrices...\n",
    "def transpose_mul_vectors(v1, v2):\n",
    "    return np.dot(v1.reshape(len(v1), 1), v2.reshape(1, len(v2)))\n",
    "\n",
    "\n",
    "    "
   ]
  },
  {
   "cell_type": "code",
   "execution_count": 237,
   "id": "83f7e645",
   "metadata": {},
   "outputs": [
    {
     "data": {
      "text/plain": [
       "[array([[11, 22],\n",
       "        [33, 44]]),\n",
       " array([[ 20,  40,  60],\n",
       "        [ 60,  80, 100]])]"
      ]
     },
     "execution_count": 237,
     "metadata": {},
     "output_type": "execute_result"
    }
   ],
   "source": [
    "a1= [np.array([\n",
    "    [1,2],\n",
    "    [3,4]\n",
    "]),\n",
    "    np.array([\n",
    "        [10, 20, 30],\n",
    "        [30,40, 50]\n",
    "    ])\n",
    "    ]\n",
    "a1"
   ]
  },
  {
   "cell_type": "code",
   "execution_count": 241,
   "id": "ae39df8e",
   "metadata": {},
   "outputs": [
    {
     "data": {
      "text/plain": [
       "[(30, 784), (10, 30)]"
      ]
     },
     "execution_count": 241,
     "metadata": {},
     "output_type": "execute_result"
    }
   ],
   "source": [
    "[w.shape for w in mynet.w]"
   ]
  },
  {
   "cell_type": "markdown",
   "id": "ca6b60ad",
   "metadata": {},
   "source": [
    "## The Network"
   ]
  },
  {
   "cell_type": "code",
   "execution_count": 527,
   "id": "326e5133",
   "metadata": {},
   "outputs": [],
   "source": [
    "class Network:\n",
    "    def __init__(self, layer_sizes):\n",
    "        # weights is an array of weight matricies\n",
    "        self.w = []\n",
    "        self.b = []\n",
    "        self.z = []\n",
    "        self.a = []\n",
    "        \n",
    "        self.layer_sizes = layer_sizes\n",
    "        self.init_parameters()\n",
    "      \n",
    "    def init_parameters(self):\n",
    "        # input layer --w[0]--> first layer --w[1]--> ... --w[n-1]--> n-th layer\n",
    "        self.w = [np.random.randn(next_layer, layer) for next_layer, layer in zip(self.layer_sizes[1:], self.layer_sizes[:-1])]\n",
    "        \n",
    "        # input layer --b[0]--> first layer --b[1]--> ... --b[n-1]--> n-th layer\n",
    "        self.b = [np.random.randn(layer_size) for layer_size in self.layer_sizes[1:]] \n",
    "        \n",
    "        # input layer --a[0]--> first layer --a[1]--> ... n-th layer --a[n]-->\n",
    "        self.init_activities()\n",
    "        \n",
    "    def init_activities(self, inputs=None):\n",
    "        self.a = [np.empty(layer_size) for layer_size in self.layer_sizes]\n",
    "        self.z = [np.empty(layer_size) for layer_size in self.layer_sizes]\n",
    "        if inputs is not None:\n",
    "            self.a[0] = inputs\n",
    "            \n",
    "    def feed_forward(self, inputs: np.ndarray):\n",
    "        self.assert_input_shape(inputs)\n",
    "        self.init_activities(inputs)\n",
    "        i = 1\n",
    "        while i < len(self.layer_sizes):\n",
    "            prev_a = self.a[i-1]\n",
    "            # sum(weights * previous activations) + bias for each neuron\n",
    "            self.z[i] = np.dot(self.w[i-1], prev_a) + self.b[i-1]\n",
    "            \n",
    "            # pass through activation function\n",
    "            self.a[i] = self.activation_function(self.z[i])\n",
    "            \n",
    "            i += 1\n",
    "        return self.a[-1]\n",
    "    \n",
    "    def gradient(self, examples):\n",
    "        \"\"\" computes the gradient for each individual example using backpropagation and averages them\"\"\"\n",
    "        d_w = [np.zeros(w.shape) for w in self.w]\n",
    "        d_b = [np.zeros(b.shape) for b in self.b]\n",
    "        \n",
    "        for x, y in examples:\n",
    "            # gradient for a single example\n",
    "            d_d_w, d_d_b = self.backprop(x, y)\n",
    "            \n",
    "            d_w = add_arrays(d_w, d_d_w)\n",
    "            d_b = add_arrays(d_b, d_d_b)\n",
    "            \n",
    "        # average all the gradients from single examples\n",
    "        \n",
    "        d_w = [dw / len(examples) for dw in d_w]\n",
    "        d_b = [db / len(examples) for db in d_b]\n",
    "        return d_w, d_b\n",
    "    \n",
    "    def train(self, examples, eta):\n",
    "        d_w, d_b = self.gradient(examples)\n",
    "        \n",
    "        \n",
    "        self.w = [w - eta * dw for w, dw in zip(self.w, d_w)]\n",
    "        self.b = [b - eta * db for b, db in zip(self.b, d_b)]\n",
    "        \n",
    "        \n",
    "    \n",
    "    def SGD(self, training_data, epochs, mini_batch_size, eta,\n",
    "            test_data=None):\n",
    "        \"\"\"Train the neural network using mini-batch stochastic\n",
    "        gradient descent.  The \"training_data\" is a list of tuples\n",
    "        \"(x, y)\" representing the training inputs and the desired\n",
    "        outputs.  The other non-optional parameters are\n",
    "        self-explanatory.  If \"test_data\" is provided then the\n",
    "        network will be evaluated against the test data after each\n",
    "        epoch, and partial progress printed out.  This is useful for\n",
    "        tracking progress, but slows things down substantially.\"\"\"\n",
    "        error_plot = []\n",
    "        if test_data: n_test = len(test_data)\n",
    "        n = len(training_data)\n",
    "        with tqdm(total=epochs * n) as pbar:\n",
    "            for j in range(epochs):\n",
    "                random.shuffle(training_data)\n",
    "                mini_batches = [\n",
    "                    training_data[k:k+mini_batch_size]\n",
    "                    for k in range(0, n, mini_batch_size)]\n",
    "                for mini_batch in mini_batches:\n",
    "                    self.train(mini_batch, eta)\n",
    "                    pbar.update(len(mini_batch))\n",
    "                if test_data:\n",
    "                    error_plot.append(self.error(test_data))\n",
    "                    print(\"Epoch {0}: {1}\".format(\n",
    "                        j, error_plot[j]))\n",
    "                else:\n",
    "                    print(\"Epoch {0} complete\".format(j))\n",
    "        return error_plot\n",
    "                \n",
    "    def assert_input_shape(self, x):\n",
    "        assert (x.ndim == 1 and len(x) == self.layer_sizes[0]), \"example input ({}) doesn't match network input shape ({})\".format(x.shape, self.layer_sizes[0])\n",
    "    def assert_output_shape(self, y):\n",
    "        assert (y.ndim == 1 and len(y) == self.layer_sizes[-1]), \"example output doesn't match network output shape\"\n",
    "    \n",
    "    def backprop(self, x, y):\n",
    "        \"\"\" Computes gradient of the cost function as derived from one example.\n",
    "            Returns d_w, d_b (changes to be made to weights and biases)\"\"\"\n",
    "        d_w = [np.zeros(w.shape) for w in self.w]\n",
    "        d_b = [np.zeros(b.shape) for b in self.b]\n",
    "\n",
    "        self.assert_input_shape(x)\n",
    "        self.assert_output_shape(y)\n",
    "\n",
    "        output = self.feed_forward(x)\n",
    "\n",
    "        \n",
    "        \n",
    "        # compute error for the output layer (which happens to equal the bias gradient)\n",
    "        error = (self.a[-1] - y) * self.activation_function_prime(self.z[-1])\n",
    "        d_b[-1] = error\n",
    "        d_w[-1] = transpose_mul_vectors(error, self.a[-2].transpose())\n",
    "\n",
    "        # backpropagate the error\n",
    "        for i, layer in reversed(list(enumerate(self.layer_sizes))[1:-1]):\n",
    "            next_w = self.w[i]  # weights connecting this layer to next one\n",
    "            error = np.dot(next_w.transpose(), error) * self.activation_function_prime(self.z[i])\n",
    "\n",
    "            d_b[i-1] = error\n",
    "            prev_a = self.a[i-1]  # activations of the previous layer)\n",
    "            d_w[i-1] = transpose_mul_vectors(error, prev_a)\n",
    "\n",
    "        return d_w, d_b\n",
    "    \n",
    "    def example_error(self, example):\n",
    "        x, t = example\n",
    "        y = self.feed_forward(x)\n",
    "        return np.linalg.norm(t - y) ** 2\n",
    "    \n",
    "    def network_error(self, examples):\n",
    "        avg = 0\n",
    "        for example in examples:\n",
    "            avg += self.example_error(example)\n",
    "        return avg / (2 * len(examples))\n",
    "    \n",
    "    def evaluate(self, test_data):\n",
    "        test_results = [(np.argmax(self.feed_forward(x)), np.argmax(y))\n",
    "                        for x, y in test_data]\n",
    "        return sum(int(t == y) for (y, t) in test_results)\n",
    "    \n",
    "    \n",
    "    def activation_function(self, z):\n",
    "        return sigmoid(z)\n",
    "    \n",
    "    def activation_function_prime(self, z):\n",
    "        return sigmoid_prime(z)\n",
    "    \n",
    "    def error(self, examples):\n",
    "        e_sum = 0\n",
    "        for x, t in examples:\n",
    "            y = self.feed_forward(x)\n",
    "            e_sum += np.linalg.norm(t - y) ** 2\n",
    "        return e_sum / (2 * len(examples))\n",
    "    \n",
    "    def b_as_matrix(self):\n",
    "        \"Convert biases to matrix form (fill with zeros)\"\n",
    "        max_layer_size = max(self.layer_sizes)\n",
    "        num_layers = len(self.layer_sizes)\n",
    "        \n",
    "        bm = np.empty((num_layers, max_layer_size))\n",
    "        \n",
    "        i = 1\n",
    "        while i < num_layers:\n",
    "            padded_b = np.zeros(max_layer_size)\n",
    "            padded_b[:len(self.b[i-1])] = self.b[i-1]\n",
    "            bm[i] = padded_b\n",
    "            i += 1\n",
    "            \n",
    "        return bm\n",
    "    \n",
    "    def random_examples(self, n):\n",
    "        \" Generates n random (input, output) pairs\"\n",
    "        return list(zip(np.random.rand(n, self.layer_sizes[0]), np.random.rand(n, self.layer_sizes[-1])))\n",
    "    def gradient_check(self, full=False):\n",
    "        \"\"\" Check the backprop implementation by comparing \n",
    "            computed partial derivatives to a limit calculation\n",
    "            (< 1e-5 good). Caution: erases weights and biases!\n",
    "        \"\"\"\n",
    "        examples = self.random_examples(1000)\n",
    "        self.init_parameters()\n",
    "        \n",
    "        d_w, d_b = self.gradient(examples)\n",
    "        approximations = []\n",
    "        \n",
    "        if full:\n",
    "            k = 1\n",
    "            while k < len(self.w):\n",
    "                wk = self.w[k-1]\n",
    "                for i in tqdm(range(len(wk))):\n",
    "                    for j in range(len(wk[i])):\n",
    "                        d_wk_i_j_approximation = self.gradient_lim_approximation(examples, 0.0001, wk, i, j)\n",
    "                        approximations.append((d_wk_i_j_approximation, d_w[k-1][i][j]))\n",
    "                    \n",
    "                k += 1\n",
    "        else:\n",
    "            for n in tqdm(range(500)):\n",
    "                # pick random layer \n",
    "                k = random.randrange(len(self.w))\n",
    "                wk = self.w[k]\n",
    "                \n",
    "                i = random.randrange(len(wk))\n",
    "                j = random.randrange(len(wk[i]))\n",
    "                \n",
    "                d_wk_i_j_approximation = self.gradient_lim_approximation(examples, 0.0001, wk, i, j)\n",
    "                approximations.append((d_wk_i_j_approximation, d_w[k][i][j]))\n",
    "                    \n",
    "                \n",
    "        return sum([abs(truth - approx) for truth, approx in approximations])\n",
    "    def gradient_lim_approximation(self, examples, delta, wk, i, j):\n",
    "        initial_wk_i_j = wk[i][j]\n",
    "\n",
    "        wk[i][j] -= delta\n",
    "        err_before = self.error(examples)\n",
    "\n",
    "        wk[i][j] += 2 * delta\n",
    "        err_after = self.error(examples)\n",
    "\n",
    "        d_wk_i_j_approximation = (err_after - err_before) / (2 * delta)\n",
    "        wk[i][j] = initial_wk_i_j\n",
    "        \n",
    "        return d_wk_i_j_approximation"
   ]
  },
  {
   "cell_type": "markdown",
   "id": "b03d8dd7",
   "metadata": {},
   "source": [
    "## Linear separation\n",
    "We're going to generate 10000 (x, y) coordinates and label them 0 when they're below y=x and 1 otherwise  "
   ]
  },
  {
   "cell_type": "markdown",
   "id": "f31154e5",
   "metadata": {},
   "source": [
    "### Generate 10000 training points"
   ]
  },
  {
   "cell_type": "code",
   "execution_count": 485,
   "id": "002d58be",
   "metadata": {},
   "outputs": [
    {
     "data": {
      "image/png": "[encoded data removed]",
      "text/plain": [
       "<Figure size 432x288 with 1 Axes>"
      ]
     },
     "metadata": {
      "needs_background": "light"
     },
     "output_type": "display_data"
    }
   ],
   "source": [
    "linear_examples = []\n",
    "for i in range(10000):\n",
    "    X = np.random.rand(2)\n",
    "    y = np.array([1, 0]) if math.sqrt((X[1] - 0.5) ** 2 + (X[0] - 0.5) ** 2) < 0.2 else np.array([0, 1])\n",
    "    if i < 500:\n",
    "        pyplot.scatter(X[0], X[1], color=(y[0], y[1], 0.9))\n",
    "    linear_examples.append((X, y))"
   ]
  },
  {
   "cell_type": "code",
   "execution_count": 491,
   "id": "11aaa92c",
   "metadata": {},
   "outputs": [
    {
     "name": "stdout",
     "output_type": "stream",
     "text": [
      "created network with layer sizes [2, 5, 2]\n"
     ]
    }
   ],
   "source": [
    "linet = Network([2, 5, 2])\n",
    "print(\"created network with layer sizes {}\".format(linet.layer_sizes))"
   ]
  },
  {
   "cell_type": "code",
   "execution_count": 494,
   "id": "39e42968",
   "metadata": {},
   "outputs": [
    {
     "data": {
      "application/vnd.jupyter.widget-view+json": {
       "model_id": "470d4cac647c412e891501c9af1c4660",
       "version_major": 2,
       "version_minor": 0
      },
      "text/plain": [
       "  0%|          | 0/400000 [00:00<?, ?it/s]"
      ]
     },
     "metadata": {},
     "output_type": "display_data"
    },
    {
     "name": "stdout",
     "output_type": "stream",
     "text": [
      "Epoch 0: 0.05403080290287386\n",
      "Epoch 1: 0.04642888857319198\n",
      "Epoch 2: 0.03902461685113057\n",
      "Epoch 3: 0.037621667629654604\n",
      "Epoch 4: 0.031670395367746025\n",
      "Epoch 5: 0.03445540483287095\n",
      "Epoch 6: 0.025056344983258896\n",
      "Epoch 7: 0.026027372667361798\n",
      "Epoch 8: 0.02476932066428421\n",
      "Epoch 9: 0.02317434997729547\n",
      "Epoch 10: 0.023367498075558643\n",
      "Epoch 11: 0.01866769356849015\n",
      "Epoch 12: 0.019598337087569157\n",
      "Epoch 13: 0.020729744987577573\n",
      "Epoch 14: 0.020608267020554825\n",
      "Epoch 15: 0.016762557755510867\n",
      "Epoch 16: 0.017138851669069585\n",
      "Epoch 17: 0.020252919818354965\n",
      "Epoch 18: 0.019395117893167665\n",
      "Epoch 19: 0.014708571551358062\n",
      "Epoch 20: 0.01572478327380643\n",
      "Epoch 21: 0.014961612984363526\n",
      "Epoch 22: 0.020728727094897023\n",
      "Epoch 23: 0.016413631849145415\n",
      "Epoch 24: 0.019672786187678492\n",
      "Epoch 25: 0.016242745728367453\n",
      "Epoch 26: 0.014150763860278175\n",
      "Epoch 27: 0.014365427684082707\n",
      "Epoch 28: 0.016883099333000983\n",
      "Epoch 29: 0.01934377785384315\n",
      "Epoch 30: 0.015506601423259051\n",
      "Epoch 31: 0.018019395047169706\n",
      "Epoch 32: 0.0128326766213942\n",
      "Epoch 33: 0.016518581704188087\n",
      "Epoch 34: 0.0233411136172261\n",
      "Epoch 35: 0.012896276423207679\n",
      "Epoch 36: 0.01802624679248824\n",
      "Epoch 37: 0.02296861945323671\n",
      "Epoch 38: 0.02101958538019425\n",
      "Epoch 39: 0.014774496537523026\n",
      "Epoch 40: 0.018407977806900386\n",
      "Epoch 41: 0.018078895630322157\n",
      "Epoch 42: 0.012871883003618993\n",
      "Epoch 43: 0.01500109154962672\n",
      "Epoch 44: 0.026086725768548015\n",
      "Epoch 45: 0.017569098723674032\n",
      "Epoch 46: 0.013275478660352526\n",
      "Epoch 47: 0.01482422540278467\n",
      "Epoch 48: 0.014779600664807166\n",
      "Epoch 49: 0.013295954112473477\n",
      "Epoch 50: 0.022584101937448517\n",
      "Epoch 51: 0.018313262878769433\n",
      "Epoch 52: 0.013624254341568087\n",
      "Epoch 53: 0.01234195182290399\n",
      "Epoch 54: 0.014784004136334947\n",
      "Epoch 55: 0.020644107469181196\n",
      "Epoch 56: 0.020865169958367565\n",
      "Epoch 57: 0.01298804143334467\n",
      "Epoch 58: 0.024035843177596914\n",
      "Epoch 59: 0.01666347350150686\n",
      "Epoch 60: 0.017188289157157744\n",
      "Epoch 61: 0.014931973485118417\n",
      "Epoch 62: 0.014051085644930732\n",
      "Epoch 63: 0.019128259088545436\n",
      "Epoch 64: 0.012510820998443669\n",
      "Epoch 65: 0.015826722037167982\n",
      "Epoch 66: 0.012494687522154145\n",
      "Epoch 67: 0.01775013924776774\n",
      "Epoch 68: 0.0198147732527739\n",
      "Epoch 69: 0.01883729164103541\n",
      "Epoch 70: 0.014788155810881061\n",
      "Epoch 71: 0.022319844539148495\n",
      "Epoch 72: 0.014848095198322324\n",
      "Epoch 73: 0.015275351306983058\n",
      "Epoch 74: 0.014406149345389365\n",
      "Epoch 75: 0.01189227741849537\n",
      "Epoch 76: 0.011528062598279291\n",
      "Epoch 77: 0.01929209823214916\n",
      "Epoch 78: 0.016915668475541577\n",
      "Epoch 79: 0.02308356193740096\n",
      "Epoch 80: 0.010883248890811284\n",
      "Epoch 81: 0.02218546165477562\n",
      "Epoch 82: 0.013374014128130659\n",
      "Epoch 83: 0.016167539101841738\n",
      "Epoch 84: 0.012942845498834323\n",
      "Epoch 85: 0.015393833474980485\n",
      "Epoch 86: 0.01418708477762391\n",
      "Epoch 87: 0.01133300435317903\n",
      "Epoch 88: 0.010902067663137385\n",
      "Epoch 89: 0.019316892611853164\n",
      "Epoch 90: 0.012793032372157018\n",
      "Epoch 91: 0.011668696590480991\n",
      "Epoch 92: 0.012656215631109306\n",
      "Epoch 93: 0.011709167066264974\n",
      "Epoch 94: 0.011496174192106355\n",
      "Epoch 95: 0.020235772849708105\n",
      "Epoch 96: 0.012790219989807948\n",
      "Epoch 97: 0.02160979942249317\n",
      "Epoch 98: 0.019715966480498275\n",
      "Epoch 99: 0.012187368523705373\n",
      "Epoch 100: 0.012786840893762695\n",
      "Epoch 101: 0.015360347278587722\n",
      "Epoch 102: 0.01569557038234977\n",
      "Epoch 103: 0.01591767148215151\n",
      "Epoch 104: 0.012932401213321289\n",
      "Epoch 105: 0.020763977777624287\n",
      "Epoch 106: 0.012548693046125095\n",
      "Epoch 107: 0.011541908249657161\n",
      "Epoch 108: 0.020954877842466434\n",
      "Epoch 109: 0.012495619727265534\n",
      "Epoch 110: 0.010098286194479224\n",
      "Epoch 111: 0.019487503694810823\n",
      "Epoch 112: 0.02056418609958703\n",
      "Epoch 113: 0.013296515030701055\n",
      "Epoch 114: 0.01209149206948991\n",
      "Epoch 115: 0.012174563827074316\n",
      "Epoch 116: 0.012890113206861467\n",
      "Epoch 117: 0.01298265592498225\n",
      "Epoch 118: 0.012899895430992016\n",
      "Epoch 119: 0.015153299041921179\n",
      "Epoch 120: 0.011205276589934648\n",
      "Epoch 121: 0.012053874735744463\n",
      "Epoch 122: 0.010675253197740476\n",
      "Epoch 123: 0.017489693836451662\n",
      "Epoch 124: 0.015608493931422395\n",
      "Epoch 125: 0.009775114642515485\n",
      "Epoch 126: 0.031117980382319263\n",
      "Epoch 127: 0.012514977571243797\n",
      "Epoch 128: 0.02145733524979534\n",
      "Epoch 129: 0.022510022329265234\n",
      "Epoch 130: 0.014540327299303608\n",
      "Epoch 131: 0.020685737416384443\n",
      "Epoch 132: 0.022119766174109056\n",
      "Epoch 133: 0.02156289055659133\n",
      "Epoch 134: 0.018744370862010334\n",
      "Epoch 135: 0.011671944889029654\n",
      "Epoch 136: 0.012979976210118432\n",
      "Epoch 137: 0.011875894201267377\n",
      "Epoch 138: 0.015838999336400164\n",
      "Epoch 139: 0.014119871418023705\n",
      "Epoch 140: 0.011301916968059069\n",
      "Epoch 141: 0.010950426374138233\n",
      "Epoch 142: 0.023432351448416395\n",
      "Epoch 143: 0.013143817746734442\n",
      "Epoch 144: 0.009673471576487482\n",
      "Epoch 145: 0.012183260682848949\n",
      "Epoch 146: 0.017446653206791375\n",
      "Epoch 147: 0.013343131428734391\n",
      "Epoch 148: 0.010733579611251733\n",
      "Epoch 149: 0.0103280338777883\n",
      "Epoch 150: 0.009331800587173486\n",
      "Epoch 151: 0.012367097370897423\n",
      "Epoch 152: 0.01261005799871763\n",
      "Epoch 153: 0.010010720201288098\n",
      "Epoch 154: 0.0091346855569008\n",
      "Epoch 155: 0.02428041445812234\n",
      "Epoch 156: 0.011875498499464957\n",
      "Epoch 157: 0.017671749200400714\n",
      "Epoch 158: 0.012760519337130127\n",
      "Epoch 159: 0.01894327981788532\n",
      "Epoch 160: 0.01509316887041561\n",
      "Epoch 161: 0.026923322655431712\n",
      "Epoch 162: 0.01163857504332275\n",
      "Epoch 163: 0.013275258478317774\n",
      "Epoch 164: 0.013634844808767227\n",
      "Epoch 165: 0.01345670434470453\n",
      "Epoch 166: 0.014393887722236567\n",
      "Epoch 167: 0.03518821587876031\n",
      "Epoch 168: 0.023625530588229342\n",
      "Epoch 169: 0.01232135531791416\n",
      "Epoch 170: 0.01346719487699968\n",
      "Epoch 171: 0.010995206676077408\n",
      "Epoch 172: 0.01032339053995406\n",
      "Epoch 173: 0.013758484235277077\n",
      "Epoch 174: 0.011494652499761452\n",
      "Epoch 175: 0.024399894969289064\n",
      "Epoch 176: 0.013511532873534038\n",
      "Epoch 177: 0.01264881489168541\n",
      "Epoch 178: 0.010338918787457624\n",
      "Epoch 179: 0.011799275914553823\n",
      "Epoch 180: 0.014980473060358376\n",
      "Epoch 181: 0.013711024735630182\n",
      "Epoch 182: 0.010344341030939194\n",
      "Epoch 183: 0.01145668156953841\n",
      "Epoch 184: 0.015785615239195434\n",
      "Epoch 185: 0.010172885076394585\n",
      "Epoch 186: 0.010663146837349475\n",
      "Epoch 187: 0.009043489534100144\n",
      "Epoch 188: 0.02789400903049625\n",
      "Epoch 189: 0.016275824501544713\n",
      "Epoch 190: 0.015212670415744676\n",
      "Epoch 191: 0.009832612322476258\n",
      "Epoch 192: 0.013475388999492017\n",
      "Epoch 193: 0.013314013923811345\n",
      "Epoch 194: 0.01531983927573588\n",
      "Epoch 195: 0.0151058854631885\n",
      "Epoch 196: 0.013951399029936478\n",
      "Epoch 197: 0.015241850511709709\n",
      "Epoch 198: 0.009372908202524547\n",
      "Epoch 199: 0.01145388933147947\n"
     ]
    },
    {
     "data": {
      "text/plain": [
       "[<matplotlib.lines.Line2D at 0x2ac935fa0>]"
      ]
     },
     "execution_count": 494,
     "metadata": {},
     "output_type": "execute_result"
    },
    {
     "data": {
      "image/png": "[encoded data removed]",
      "text/plain": [
       "<Figure size 432x288 with 1 Axes>"
      ]
     },
     "metadata": {
      "needs_background": "light"
     },
     "output_type": "display_data"
    }
   ],
   "source": [
    "# for i in range(5):\n",
    "error_plot = linet.SGD(linear_examples[:9000], 200, 10, 4, test_data=linear_examples[:1000])\n",
    "#     network_paint()\n",
    "fig = pyplot.figure()\n",
    "ax = pyplot.axes()\n",
    "\n",
    "ax.plot(range(len(error_plot)), error_plot)"
   ]
  },
  {
   "cell_type": "markdown",
   "id": "d49c93df",
   "metadata": {},
   "source": [
    "### Let the network color 500 points"
   ]
  },
  {
   "cell_type": "code",
   "execution_count": 498,
   "id": "c1510c3d",
   "metadata": {},
   "outputs": [
    {
     "data": {
      "image/png": "[encoded data removed]",
      "text/plain": [
       "<Figure size 432x288 with 1 Axes>"
      ]
     },
     "metadata": {
      "needs_background": "light"
     },
     "output_type": "display_data"
    }
   ],
   "source": [
    "def network_paint():\n",
    "    for ex in linear_examples[:500]:\n",
    "        X = ex[0]\n",
    "        y = linet.feed_forward(X)\n",
    "        pyplot.scatter(X[0], X[1], color=(y[0], y[1], 0.9))\n",
    "    pyplot.show()\n",
    "        \n",
    "network_paint()"
   ]
  },
  {
   "cell_type": "markdown",
   "id": "88fda528",
   "metadata": {},
   "source": [
    "## MNIST"
   ]
  },
  {
   "cell_type": "markdown",
   "id": "841ac946",
   "metadata": {},
   "source": [
    "### Loading the data"
   ]
  },
  {
   "cell_type": "code",
   "execution_count": 499,
   "id": "618a4013",
   "metadata": {},
   "outputs": [
    {
     "name": "stdout",
     "output_type": "stream",
     "text": [
      "X_train: (60000, 28, 28)\n",
      "Y_train: (60000,)\n",
      "X_test:  (10000, 28, 28)\n",
      "Y_test:  (10000,)\n"
     ]
    }
   ],
   "source": [
    "from tensorflow import keras\n",
    "\n",
    "(raw_train_X, raw_train_y), (raw_test_X, raw_test_y) = keras.datasets.mnist.load_data()\n",
    "print('X_train: ' + str(raw_train_X.shape))\n",
    "print('Y_train: ' + str(raw_train_y.shape))\n",
    "print('X_test:  '  + str(raw_test_X.shape))\n",
    "print('Y_test:  '  + str(raw_test_y.shape))"
   ]
  },
  {
   "cell_type": "markdown",
   "id": "500e1a20",
   "metadata": {},
   "source": [
    "### Plotting the data"
   ]
  },
  {
   "cell_type": "code",
   "execution_count": 505,
   "id": "6740c43b",
   "metadata": {},
   "outputs": [
    {
     "data": {
      "image/png": "[encoded data removed]",
      "text/plain": [
       "<Figure size 640x480 with 3 Axes>"
      ]
     },
     "metadata": {
      "needs_background": "light"
     },
     "output_type": "display_data"
    }
   ],
   "source": [
    "# Plot first images\n",
    "fig = pyplot.figure(figsize=(8, 6), dpi=80)\n",
    "for i in range(3):  \n",
    "    fig.add_subplot(330 + 1 + i).imshow(raw_train_X[i], cmap=pyplot.get_cmap('gray'))\n",
    "pyplot.show()"
   ]
  },
  {
   "cell_type": "code",
   "execution_count": 506,
   "id": "139217f0",
   "metadata": {},
   "outputs": [],
   "source": [
    "def draw_matrix(m):\n",
    "    pyplot.figure(figsize=(6, 6), dpi=120)\n",
    "    pyplot.imshow(m, cmap=pyplot.get_cmap('gray'))\n",
    "    pyplot.show()"
   ]
  },
  {
   "cell_type": "markdown",
   "id": "dacc55e5",
   "metadata": {},
   "source": [
    "### Prepare the data"
   ]
  },
  {
   "cell_type": "markdown",
   "id": "856944b4",
   "metadata": {},
   "source": [
    "Turn number-labels (e.g. 1) into vectors of probabilities (e.g. [0, 1, 0 ... 0])"
   ]
  },
  {
   "cell_type": "code",
   "execution_count": 507,
   "id": "36d49d51",
   "metadata": {},
   "outputs": [
    {
     "name": "stdout",
     "output_type": "stream",
     "text": [
      "5 -> [0. 0. 0. 0. 0. 1. 0. 0. 0. 0.]\n",
      "0 -> [1. 0. 0. 0. 0. 0. 0. 0. 0. 0.]\n",
      "4 -> [0. 0. 0. 0. 1. 0. 0. 0. 0. 0.]\n",
      "1 -> [0. 1. 0. 0. 0. 0. 0. 0. 0. 0.]\n",
      "9 -> [0. 0. 0. 0. 0. 0. 0. 0. 0. 1.]\n"
     ]
    }
   ],
   "source": [
    "def vectorize_mnist_output(ys):\n",
    "    new_ys = np.empty((len(ys), 10))\n",
    "    for i in range(len(ys)):\n",
    "        vectorized_y = np.zeros(10)\n",
    "        vectorized_y[ys[i]] = 1.0\n",
    "        new_ys[i] = vectorized_y\n",
    "        \n",
    "    return new_ys\n",
    "\n",
    "train_y = vectorize_mnist_output(raw_train_y)\n",
    "\n",
    "test_y = vectorize_mnist_output(raw_test_y)\n",
    "\n",
    "_ = [print(\"{} -> {}\".format(raw, vectorized)) for (raw, vectorized) in zip(raw_train_y[:5], train_y[:5])]"
   ]
  },
  {
   "cell_type": "markdown",
   "id": "54a39437",
   "metadata": {},
   "source": [
    "Flatten inputs from 28x28 matrix to 728x1 vector and normalize to [0; 1]"
   ]
  },
  {
   "cell_type": "code",
   "execution_count": 515,
   "id": "0312c60f",
   "metadata": {},
   "outputs": [
    {
     "name": "stdout",
     "output_type": "stream",
     "text": [
      "inputs are now in range [0.0; 1.0]\n"
     ]
    }
   ],
   "source": [
    "rtx_shape = raw_train_X.shape\n",
    "train_X = raw_train_X.reshape(rtx_shape[0], rtx_shape[1] * rtx_shape[2]) / 255\n",
    "\n",
    "test_X = raw_test_X.reshape(raw_test_X.shape[0], raw_test_X.shape[1] * raw_test_X.shape[2]) / 255\n",
    "\n",
    "print(\"inputs are now in range [{}; {}]\".format(np.min(train_X), np.max(train_X)))"
   ]
  },
  {
   "cell_type": "code",
   "execution_count": 516,
   "id": "5ba1bcbf",
   "metadata": {},
   "outputs": [
    {
     "name": "stdout",
     "output_type": "stream",
     "text": [
      "examples are of form: ((784,), (10,))\n"
     ]
    }
   ],
   "source": [
    "# compose X and y pairs into tuples\n",
    "training_examples = list(zip(train_X, train_y))\n",
    "test_examples = list(zip(test_X, test_y))\n",
    "print(\"examples are of form: ({}, {})\".format(training_examples[0][0].shape, training_examples[0][1].shape))"
   ]
  },
  {
   "cell_type": "markdown",
   "id": "5c12a109",
   "metadata": {},
   "source": [
    "### Creating the network"
   ]
  },
  {
   "cell_type": "code",
   "execution_count": 517,
   "id": "c1deb20e",
   "metadata": {},
   "outputs": [
    {
     "name": "stdout",
     "output_type": "stream",
     "text": [
      "created network with layer sizes [784, 30, 10]\n"
     ]
    }
   ],
   "source": [
    "mynet = Network([784, 30, 10])\n",
    "print(\"created network with layer sizes {}\".format(mynet.layer_sizes))"
   ]
  },
  {
   "cell_type": "code",
   "execution_count": 518,
   "id": "f6a53333",
   "metadata": {},
   "outputs": [
    {
     "name": "stdout",
     "output_type": "stream",
     "text": [
      "error before training: 2.758804430180685\n"
     ]
    }
   ],
   "source": [
    "initial_error = mynet.error(test_examples)\n",
    "print(\"error before training: {}\".format(initial_error))"
   ]
  },
  {
   "cell_type": "markdown",
   "id": "928cbba8",
   "metadata": {},
   "source": [
    "### Training the network"
   ]
  },
  {
   "cell_type": "code",
   "execution_count": null,
   "id": "0e899cca",
   "metadata": {
    "scrolled": true
   },
   "outputs": [
    {
     "data": {
      "application/vnd.jupyter.widget-view+json": {
       "model_id": "6c22a4de44cf467f83a8e874aa460392",
       "version_major": 2,
       "version_minor": 0
      },
      "text/plain": [
       "  0%|          | 0/1200000 [00:00<?, ?it/s]"
      ]
     },
     "metadata": {},
     "output_type": "display_data"
    },
    {
     "name": "stdout",
     "output_type": "stream",
     "text": [
      "Epoch 0: 0.11423805346211444\n",
      "Epoch 1: 0.06517145788645246\n",
      "Epoch 2: 0.054097263403470756\n",
      "Epoch 3: 0.05483387299742713\n",
      "Epoch 4: 0.053919505619846486\n",
      "Epoch 5: 0.048396031051603186\n",
      "Epoch 6: 0.04738873797225213\n",
      "Epoch 7: 0.04639469080731987\n",
      "Epoch 8: 0.04710510602272485\n"
     ]
    }
   ],
   "source": [
    "\n",
    "error_plot = mynet.SGD(training_examples, 20, 10, 3.0, test_data=test_examples)\n",
    " \n",
    "fig = pyplot.figure()\n",
    "ax = pyplot.axes()\n",
    " \n",
    "ax.plot(range(len(error_plot)), error_plot)\n",
    "print(\"Classified {} / {} examples correctly.\".format(self.evaluate(test_examples), len(test_examples)))\n"
   ]
  },
  {
   "cell_type": "markdown",
   "id": "15e6a526",
   "metadata": {},
   "source": [
    "### Classify!"
   ]
  },
  {
   "cell_type": "code",
   "execution_count": 526,
   "id": "5858d58f",
   "metadata": {},
   "outputs": [
    {
     "data": {
      "image/png": "[encoded data removed]",
      "text/plain": [
       "<Figure size 640x960 with 9 Axes>"
      ]
     },
     "metadata": {
      "needs_background": "light"
     },
     "output_type": "display_data"
    }
   ],
   "source": [
    "fig = pyplot.figure(figsize=(8, 12), dpi=80)\n",
    "for i in range(9):  \n",
    "    # pick a random test example\n",
    "    X = test_X[random.randrange(len(test_X))]\n",
    "    ax = fig.add_subplot(330 + 1 + i)\n",
    "    \n",
    "    model_output = np.argmax(mynet.feed_forward(X))\n",
    "    ax.title.set_text(model_output)\n",
    "    ax.imshow(X.reshape(28, 28), cmap=pyplot.get_cmap('gray'))\n",
    "    \n",
    "pyplot.show()"
   ]
  }
 ],
 "metadata": {
  "kernelspec": {
   "display_name": "Python 3 (ipykernel)",
   "language": "python",
   "name": "python3"
  },
  "language_info": {
   "codemirror_mode": {
    "name": "ipython",
    "version": 3
   },
   "file_extension": ".py",
   "mimetype": "text/x-python",
   "name": "python",
   "nbconvert_exporter": "python",
   "pygments_lexer": "ipython3",
   "version": "3.8.12"
  }
 },
 "nbformat": 4,
 "nbformat_minor": 5
}
