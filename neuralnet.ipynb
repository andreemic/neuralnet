{
 "cells": [
  {
   "cell_type": "markdown",
   "id": "db796a19",
   "metadata": {},
   "source": [
    "# A feed-forward neural network from scratch"
   ]
  },
  {
   "cell_type": "markdown",
   "id": "ff7feb15",
   "metadata": {},
   "source": [
    "## Helper functions"
   ]
  },
  {
   "cell_type": "code",
   "execution_count": 52,
   "id": "fb864917",
   "metadata": {},
   "outputs": [],
   "source": [
    "import numpy as np\n",
    "import math\n",
    "import random\n",
    "from tqdm.notebook import tqdm\n",
    "\n",
    "from matplotlib import pyplot\n",
    "\n",
    "def sigmoid(x):\n",
    "    if isinstance(x, np.ndarray):\n",
    "        return np.array([sigmoid(_x) for _x in x])\n",
    "    return 1 / (1 + math.exp(-x))\n",
    "def sigmoid_prime(x):\n",
    "    if isinstance(x, np.ndarray):\n",
    "        return np.array([sigmoid_prime(_x) for _x in x])\n",
    "    return sigmoid(x)*(1-sigmoid(x))\n",
    "\n",
    "# add two arrays element-by-element\n",
    "def add_arrays(a1, a2):\n",
    "    return [x1 + x2 for x1, x2 in zip(a1, a2)]\n",
    "\n",
    "# couldn't figure out how to cleanly multiply vectors as matrices...\n",
    "def transpose_mul_vectors(v1, v2):\n",
    "    return np.dot(v1.reshape(len(v1), 1), v2.reshape(1, len(v2)))\n",
    "\n",
    "\n",
    "    "
   ]
  },
  {
   "cell_type": "markdown",
   "id": "ca6b60ad",
   "metadata": {},
   "source": [
    "## The Network"
   ]
  },
  {
   "cell_type": "code",
   "execution_count": 188,
   "id": "326e5133",
   "metadata": {},
   "outputs": [],
   "source": [
    "class Network:\n",
    "    def __init__(self, layer_sizes):\n",
    "        # weights is an array of weight matricies\n",
    "        self.w = []\n",
    "        self.b = []\n",
    "        self.z = []\n",
    "        self.a = []\n",
    "        \n",
    "        self.layer_sizes = layer_sizes\n",
    "        self.init_parameters()\n",
    "      \n",
    "    def init_parameters(self):\n",
    "        # input layer --w[0]--> first layer --w[1]--> ... --w[n-1]--> n-th layer\n",
    "        self.w = [np.random.rand(self.layer_sizes[i+1], self.layer_sizes[i]) for i in range(len(self.layer_sizes) - 1)]\n",
    "        \n",
    "        # input layer --b[0]--> first layer --b[1]--> ... --b[n-1]--> n-th layer\n",
    "        self.b = [np.random.rand(layer_size) for layer_size in self.layer_sizes[1:]] \n",
    "        \n",
    "        # input layer --a[0]--> first layer --a[1]--> ... n-th layer --a[n]-->\n",
    "        self.init_activities()\n",
    "        \n",
    "    def init_activities(self, inputs=None):\n",
    "        self.a = [np.empty(layer_size) for layer_size in self.layer_sizes]\n",
    "        self.z = [np.empty(layer_size) for layer_size in self.layer_sizes]\n",
    "        if inputs is not None:\n",
    "            self.a[0] = inputs\n",
    "            \n",
    "    def feed_forward(self, inputs: np.ndarray):\n",
    "        self.assert_input_shape(inputs)\n",
    "        self.init_activities(inputs)\n",
    "        i = 1\n",
    "        while i < len(self.layer_sizes):\n",
    "            prev_a = self.a[i-1]\n",
    "            # sum(weights * previous activations) + bias for each neuron\n",
    "            self.z[i] = np.dot(self.w[i-1], prev_a) + self.b[i-1]\n",
    "            \n",
    "            # pass through activation function\n",
    "            self.a[i] = self.activation_function(self.z[i])\n",
    "            \n",
    "            i += 1\n",
    "        return self.a[-1]\n",
    "    \n",
    "    def gradient(self, examples):\n",
    "        \"\"\" computes the gradient for each individual example using backpropagation and averages them\"\"\"\n",
    "        d_w = [np.zeros(w.shape) for w in self.w]\n",
    "        d_b = [np.zeros(b.shape) for b in self.b]\n",
    "        \n",
    "        for x, y in examples:\n",
    "            # gradient for a single example\n",
    "            d_d_w, d_d_b = self.backprop(x, y)\n",
    "            \n",
    "            d_w = add_arrays(d_w, d_d_w)\n",
    "            d_b = add_arrays(d_b, d_d_b)\n",
    "            \n",
    "        # average all the gradients from single examples\n",
    "        d_w = [dw / len(examples) for dw in d_w]\n",
    "        d_b = [db / len(examples) for db in d_b]\n",
    "        return d_w, d_b\n",
    "    \n",
    "    def train(self, examples, eta):\n",
    "        d_w, d_b = self.gradient(examples)\n",
    "        \n",
    "        self.w = [w - eta * dw for w, dw in zip(self.w, d_w)]\n",
    "        self.b = [b - eta * db for b, db in zip(self.b, d_b)]\n",
    "    \n",
    "    def SGD(self, training_data, epochs, mini_batch_size, eta,\n",
    "            test_data=None):\n",
    "        \"\"\"Train the neural network using mini-batch stochastic\n",
    "        gradient descent.  The \"training_data\" is a list of tuples\n",
    "        \"(x, y)\" representing the training inputs and the desired\n",
    "        outputs.  The other non-optional parameters are\n",
    "        self-explanatory.  If \"test_data\" is provided then the\n",
    "        network will be evaluated against the test data after each\n",
    "        epoch, and partial progress printed out.  This is useful for\n",
    "        tracking progress, but slows things down substantially.\"\"\"\n",
    "        error_plot = []\n",
    "        if test_data: n_test = len(test_data)\n",
    "        n = len(training_data)\n",
    "        with tqdm(total=epochs * n) as pbar:\n",
    "            for j in range(epochs):\n",
    "                random.shuffle(training_data)\n",
    "                mini_batches = [\n",
    "                    training_data[k:k+mini_batch_size]\n",
    "                    for k in range(0, n, mini_batch_size)]\n",
    "                for mini_batch in mini_batches:\n",
    "                    self.train(mini_batch, eta)\n",
    "                    pbar.update(len(mini_batch))\n",
    "                if test_data:\n",
    "                    error_plot.append(self.error(test_data))\n",
    "\n",
    "    #                 print(\"Epoch {0}: {1}\".format(\n",
    "    #                     j, error_plot[j]))\n",
    "    #             else:\n",
    "    #                 print(\"Epoch {0} complete\".format(j))\n",
    "        return error_plot\n",
    "                \n",
    "    def assert_input_shape(self, x):\n",
    "        assert (x.ndim == 1 and len(x) == self.layer_sizes[0]), \"example input ({}) doesn't match network input shape ({})\".format(x.shape, self.layer_sizes[0])\n",
    "    def assert_output_shape(self, y):\n",
    "        assert (y.ndim == 1 and len(y) == self.layer_sizes[-1]), \"example output doesn't match network output shape\"\n",
    "    \n",
    "    def backprop(self, x, y):\n",
    "        \"\"\" Computes gradient of the cost function.\n",
    "            Returns d_w, d_b (changes to be made to weights and biases)\"\"\"\n",
    "        d_w = [np.zeros(w.shape) for w in self.w]\n",
    "        d_b = [np.zeros(b.shape) for b in self.b]\n",
    "\n",
    "        self.assert_input_shape(x)\n",
    "        self.assert_output_shape(y)\n",
    "\n",
    "        output = self.feed_forward(x)\n",
    "\n",
    "        # compute error for the output layer (which happens to equal the bias gradient)\n",
    "        error = (self.a[-1] - y) * self.activation_function_prime(self.z[-1])\n",
    "        d_b[-1] = error\n",
    "        d_w[-1] = transpose_mul_vectors(error, self.a[-2].transpose())\n",
    "\n",
    "        # backpropagate the error\n",
    "        for i, layer in reversed(list(enumerate(self.layer_sizes))[1:-1]):\n",
    "            curr_w = self.w[i]  # weights connecting previous layer to this one\n",
    "            error = np.dot(curr_w.transpose(), error) * self.activation_function_prime(self.z[i])\n",
    "\n",
    "            d_b[i - 1] = error\n",
    "            prev_a = self.a[i - 1]  # activations of the previous layer)\n",
    "            d_w[i-1] = transpose_mul_vectors(error, prev_a)\n",
    "\n",
    "        return d_w, d_b\n",
    "    \n",
    "    def example_error(self, example):\n",
    "        x, t = example\n",
    "        y = self.feed_forward(x)\n",
    "        return np.linalg.norm(t - y) ** 2\n",
    "    \n",
    "    def network_error(self, examples):\n",
    "        avg = 0\n",
    "        for example in examples:\n",
    "            avg += self.example_error(example)\n",
    "        return avg / (2 * len(examples))\n",
    "    \n",
    "    def evaluate(self, test_data):\n",
    "        test_results = [(np.argmax(self.feed_forward(x)), np.argmax(y))\n",
    "                        for x, y in test_data]\n",
    "        return sum(int(t == y) for (y, t) in test_results)\n",
    "    \n",
    "    \n",
    "    def activation_function(self, z):\n",
    "        return sigmoid(z)\n",
    "    \n",
    "    def activation_function_prime(self, z):\n",
    "        return sigmoid_prime(z)\n",
    "    \n",
    "    def error(self, examples):\n",
    "        e_sum = 0\n",
    "        for x, t in examples:\n",
    "            y = self.feed_forward(x)\n",
    "            e_sum += np.linalg.norm(t - y) ** 2\n",
    "        return e_sum / (2 * len(examples))\n",
    "    \n",
    "    def b_as_matrix(self):\n",
    "        \"Convert biases to matrix form (fill with zeros)\"\n",
    "        max_layer_size = max(self.layer_sizes)\n",
    "        num_layers = len(self.layer_sizes)\n",
    "        \n",
    "        bm = np.empty((num_layers, max_layer_size))\n",
    "        \n",
    "        i = 1\n",
    "        while i < num_layers:\n",
    "            padded_b = np.zeros(max_layer_size)\n",
    "            padded_b[:len(self.b[i-1])] = self.b[i-1]\n",
    "            bm[i] = padded_b\n",
    "            i += 1\n",
    "            \n",
    "        return bm\n",
    "    \n",
    "    def random_examples(self, n):\n",
    "        \" Generates n random (input, output) pairs\"\n",
    "        return list(zip(np.random.rand(n, self.layer_sizes[0]), np.random.rand(n, self.layer_sizes[-1])))\n",
    "    def gradient_check(self, full=False):\n",
    "        examples = self.random_examples(1000)\n",
    "        self.init_parameters()\n",
    "        \n",
    "        d_w, d_b = self.gradient(examples)\n",
    "        approximations = []\n",
    "        \n",
    "        if full:\n",
    "            k = 1\n",
    "            while k < len(self.w):\n",
    "                wk = self.w[k-1]\n",
    "                for i in tqdm(range(len(wk))):\n",
    "                    for j in range(len(wk[i])):\n",
    "                        d_wk_i_j_approximation = self.gradient_lim_approximation(examples, 0.0001, wk, i, j)\n",
    "                        approximations.append((d_wk_i_j_approximation, d_w[k-1][i][j]))\n",
    "                    \n",
    "                k += 1\n",
    "        else:\n",
    "            for n in tqdm(range(500)):\n",
    "                # pick random layer \n",
    "                k = random.randrange(len(self.w))\n",
    "                wk = self.w[k]\n",
    "                \n",
    "                i = random.randrange(len(wk))\n",
    "                j = random.randrange(len(wk[i]))\n",
    "                \n",
    "                d_wk_i_j_approximation = self.gradient_lim_approximation(examples, 0.0001, wk, i, j)\n",
    "                approximations.append((d_wk_i_j_approximation, d_w[k][i][j]))\n",
    "                    \n",
    "                \n",
    "        return sum([abs(truth - approx) for truth, approx in approximations])\n",
    "    def gradient_lim_approximation(self, examples, delta, wk, i, j):\n",
    "        initial_wk_i_j = wk[i][j]\n",
    "\n",
    "        wk[i][j] -= delta\n",
    "        err_before = self.error(examples)\n",
    "\n",
    "        wk[i][j] += 2 * delta\n",
    "        err_after = self.error(examples)\n",
    "\n",
    "        d_wk_i_j_approximation = (err_after - err_before) / (2 * delta)\n",
    "        wk[i][j] = initial_wk_i_j\n",
    "        \n",
    "        return d_wk_i_j_approximation"
   ]
  },
  {
   "cell_type": "code",
   "execution_count": 189,
   "id": "15098f87",
   "metadata": {},
   "outputs": [
    {
     "data": {
      "text/plain": [
       "9"
      ]
     },
     "execution_count": 189,
     "metadata": {},
     "output_type": "execute_result"
    }
   ],
   "source": [
    "random.randrange(10)"
   ]
  },
  {
   "cell_type": "code",
   "execution_count": 190,
   "id": "b9cef626",
   "metadata": {},
   "outputs": [
    {
     "name": "stdout",
     "output_type": "stream",
     "text": [
      "created network with layer sizes [20, 5, 2, 1]\n"
     ]
    }
   ],
   "source": [
    "mynet = Network([20, 5, 2, 1])\n",
    "print(\"created network with layer sizes {}\".format(mynet.layer_sizes))"
   ]
  },
  {
   "cell_type": "code",
   "execution_count": 191,
   "id": "3b93324e",
   "metadata": {},
   "outputs": [
    {
     "data": {
      "application/vnd.jupyter.widget-view+json": {
       "model_id": "d3e9cc32bc774dcea15b47b67b4f89c8",
       "version_major": 2,
       "version_minor": 0
      },
      "text/plain": [
       "  0%|          | 0/500 [00:00<?, ?it/s]"
      ]
     },
     "metadata": {},
     "output_type": "display_data"
    },
    {
     "data": {
      "text/plain": [
       "2.14820258290382e-09"
      ]
     },
     "execution_count": 191,
     "metadata": {},
     "output_type": "execute_result"
    }
   ],
   "source": [
    "mynet.gradient_check()"
   ]
  },
  {
   "cell_type": "markdown",
   "id": "b03d8dd7",
   "metadata": {},
   "source": [
    "## Linear separation\n",
    "We're going to generate 10000 (x, y) coordinates and label them 0 when they're below y=x and 1 otherwise  "
   ]
  },
  {
   "cell_type": "markdown",
   "id": "29719c32",
   "metadata": {},
   "source": [
    "### Generate 10000 training points"
   ]
  },
  {
   "cell_type": "code",
   "execution_count": 129,
   "id": "002d58be",
   "metadata": {},
   "outputs": [
    {
     "data": {
      "image/png": "[encoded data removed]",
      "text/plain": [
       "<Figure size 432x288 with 1 Axes>"
      ]
     },
     "metadata": {
      "needs_background": "light"
     },
     "output_type": "display_data"
    }
   ],
   "source": [
    "linear_examples = []\n",
    "for i in range(10000):\n",
    "    X = np.random.rand(2)\n",
    "    y = np.array([1, 0]) if math.sqrt((X[1] - 0.5) ** 2 + (X[0] - 0.5) ** 2) < 0.2 else np.array([0, 1])\n",
    "    if i < 500:\n",
    "        pyplot.scatter(X[0], X[1], color=(y[0], y[1], 0.9))\n",
    "    linear_examples.append((X, y))"
   ]
  },
  {
   "cell_type": "code",
   "execution_count": 130,
   "id": "11aaa92c",
   "metadata": {},
   "outputs": [
    {
     "name": "stdout",
     "output_type": "stream",
     "text": [
      "created network with layer sizes [2, 5, 2]\n"
     ]
    }
   ],
   "source": [
    "linet = Network([2, 5, 2])\n",
    "print(\"created network with layer sizes {}\".format(linet.layer_sizes))"
   ]
  },
  {
   "cell_type": "code",
   "execution_count": 131,
   "id": "39e42968",
   "metadata": {},
   "outputs": [
    {
     "data": {
      "application/vnd.jupyter.widget-view+json": {
       "model_id": "733f0705e9d64642960080549c84c2b9",
       "version_major": 2,
       "version_minor": 0
      },
      "text/plain": [
       "  0%|          | 0/20 [00:00<?, ?it/s]"
      ]
     },
     "metadata": {},
     "output_type": "display_data"
    },
    {
     "data": {
      "text/plain": [
       "[<matplotlib.lines.Line2D at 0x176fced00>]"
      ]
     },
     "execution_count": 131,
     "metadata": {},
     "output_type": "execute_result"
    },
    {
     "data": {
      "image/png": "[encoded data removed]",
      "text/plain": [
       "<Figure size 432x288 with 1 Axes>"
      ]
     },
     "metadata": {
      "needs_background": "light"
     },
     "output_type": "display_data"
    }
   ],
   "source": [
    "# for i in range(5):\n",
    "error_plot = linet.SGD(linear_examples[:9000], 20, 10, 4, test_data=linear_examples[:1000])\n",
    "#     network_paint()\n",
    "fig = pyplot.figure()\n",
    "ax = pyplot.axes()\n",
    "\n",
    "ax.plot(range(len(error_plot)), error_plot)"
   ]
  },
  {
   "cell_type": "markdown",
   "id": "1c5ad155",
   "metadata": {},
   "source": [
    "### Let the network color 500 points"
   ]
  },
  {
   "cell_type": "code",
   "execution_count": 132,
   "id": "c1510c3d",
   "metadata": {},
   "outputs": [
    {
     "data": {
      "image/png": "[encoded data removed]",
      "text/plain": [
       "<Figure size 432x288 with 1 Axes>"
      ]
     },
     "metadata": {
      "needs_background": "light"
     },
     "output_type": "display_data"
    }
   ],
   "source": [
    "def network_paint():\n",
    "    for i in range(500):\n",
    "        X = np.random.rand(2)\n",
    "        y = linet.feed_forward(X)\n",
    "        pyplot.scatter(X[0], X[1], color=(y[0], y[1], 0.9))\n",
    "    pyplot.show()\n",
    "        \n",
    "network_paint()"
   ]
  },
  {
   "cell_type": "code",
   "execution_count": 133,
   "id": "b854622c",
   "metadata": {},
   "outputs": [
    {
     "data": {
      "text/plain": [
       "array([0.00648946, 0.99350729])"
      ]
     },
     "execution_count": 133,
     "metadata": {},
     "output_type": "execute_result"
    }
   ],
   "source": [
    "X = np.array([0.0, 0.0])\n",
    "linet.feed_forward(X)"
   ]
  },
  {
   "cell_type": "markdown",
   "id": "88fda528",
   "metadata": {},
   "source": [
    "## MNIST"
   ]
  },
  {
   "cell_type": "markdown",
   "id": "841ac946",
   "metadata": {},
   "source": [
    "### Loading the data"
   ]
  },
  {
   "cell_type": "code",
   "execution_count": 107,
   "id": "618a4013",
   "metadata": {},
   "outputs": [
    {
     "name": "stdout",
     "output_type": "stream",
     "text": [
      "X_train: (60000, 28, 28)\n",
      "Y_train: (60000,)\n",
      "X_test:  (10000, 28, 28)\n",
      "Y_test:  (10000,)\n"
     ]
    }
   ],
   "source": [
    "from tensorflow import keras\n",
    "\n",
    "(raw_train_X, raw_train_y), (raw_test_X, raw_test_y) = keras.datasets.mnist.load_data()\n",
    "print('X_train: ' + str(raw_train_X.shape))\n",
    "print('Y_train: ' + str(raw_train_y.shape))\n",
    "print('X_test:  '  + str(raw_test_X.shape))\n",
    "print('Y_test:  '  + str(raw_test_y.shape))"
   ]
  },
  {
   "cell_type": "markdown",
   "id": "500e1a20",
   "metadata": {},
   "source": [
    "### Plotting the data"
   ]
  },
  {
   "cell_type": "code",
   "execution_count": 134,
   "id": "6740c43b",
   "metadata": {},
   "outputs": [
    {
     "data": {
      "image/png": "[encoded data removed]",
      "text/plain": [
       "<Figure size 640x480 with 1 Axes>"
      ]
     },
     "metadata": {
      "needs_background": "light"
     },
     "output_type": "display_data"
    },
    {
     "data": {
      "image/png": "[encoded data removed]",
      "text/plain": [
       "<Figure size 640x480 with 1 Axes>"
      ]
     },
     "metadata": {
      "needs_background": "light"
     },
     "output_type": "display_data"
    },
    {
     "data": {
      "image/png": "[encoded data removed]",
      "text/plain": [
       "<Figure size 640x480 with 1 Axes>"
      ]
     },
     "metadata": {
      "needs_background": "light"
     },
     "output_type": "display_data"
    }
   ],
   "source": [
    "# Plot first images\n",
    "for i in range(3):  \n",
    "    pyplot.figure(figsize=(8, 6), dpi=80)\n",
    "    pyplot.subplot(330 + 1 + i)\n",
    "    pyplot.imshow(raw_train_X[i], cmap=pyplot.get_cmap('gray'))\n",
    "    pyplot.show()"
   ]
  },
  {
   "cell_type": "code",
   "execution_count": 135,
   "id": "139217f0",
   "metadata": {},
   "outputs": [],
   "source": [
    "def draw_matrix(m):\n",
    "    pyplot.figure(figsize=(6, 6), dpi=120)\n",
    "    pyplot.imshow(m, cmap=pyplot.get_cmap('gray'))\n",
    "    pyplot.show()"
   ]
  },
  {
   "cell_type": "markdown",
   "id": "dacc55e5",
   "metadata": {},
   "source": [
    "### Prepare the data"
   ]
  },
  {
   "cell_type": "code",
   "execution_count": 136,
   "id": "36d49d51",
   "metadata": {},
   "outputs": [
    {
     "name": "stdout",
     "output_type": "stream",
     "text": [
      "5 -> [0. 0. 0. 0. 0. 1. 0. 0. 0. 0.]\n",
      "0 -> [1. 0. 0. 0. 0. 0. 0. 0. 0. 0.]\n",
      "4 -> [0. 0. 0. 0. 1. 0. 0. 0. 0. 0.]\n",
      "1 -> [0. 1. 0. 0. 0. 0. 0. 0. 0. 0.]\n",
      "9 -> [0. 0. 0. 0. 0. 0. 0. 0. 0. 1.]\n"
     ]
    }
   ],
   "source": [
    "# turn number-labels (e.g. 1) into vectors of probabilities (e.g. [0, 1, 0 ... 0])\n",
    "\n",
    "def vectorize_mnist_output(ys):\n",
    "    new_ys = np.empty((len(ys), 10))\n",
    "    for i in range(len(ys)):\n",
    "        vectorized_y = np.zeros(10)\n",
    "        vectorized_y[ys[i]] = 1.0\n",
    "        new_ys[i] = vectorized_y\n",
    "        \n",
    "    return new_ys\n",
    "\n",
    "train_y = vectorize_mnist_output(raw_train_y)\n",
    "\n",
    "test_y = vectorize_mnist_output(raw_test_y)\n",
    "\n",
    "_ = [print(\"{} -> {}\".format(raw, vectorized)) for (raw, vectorized) in zip(raw_train_y[:5], train_y[:5])]"
   ]
  },
  {
   "cell_type": "code",
   "execution_count": 137,
   "id": "0312c60f",
   "metadata": {},
   "outputs": [],
   "source": [
    "# flatten inputs from 28x28 matrix to 728x1 vector\n",
    "\n",
    "rtx_shape = raw_train_X.shape\n",
    "train_X = raw_train_X.reshape(rtx_shape[0], rtx_shape[1] * rtx_shape[2])\n",
    "\n",
    "test_X = raw_test_X.reshape(raw_test_X.shape[0], raw_test_X.shape[1] * raw_test_X.shape[2])"
   ]
  },
  {
   "cell_type": "code",
   "execution_count": 138,
   "id": "5ba1bcbf",
   "metadata": {},
   "outputs": [
    {
     "name": "stdout",
     "output_type": "stream",
     "text": [
      "examples are of form: ((784,), (10,))\n"
     ]
    }
   ],
   "source": [
    "# compose X and y pairs into tuples\n",
    "training_examples = list(zip(train_X, train_y))\n",
    "test_examples = list(zip(test_X, test_y))\n",
    "print(\"examples are of form: ({}, {})\".format(training_examples[0][0].shape, training_examples[0][1].shape))"
   ]
  },
  {
   "cell_type": "markdown",
   "id": "5c12a109",
   "metadata": {},
   "source": [
    "### Creating the network"
   ]
  },
  {
   "cell_type": "code",
   "execution_count": 192,
   "id": "c1deb20e",
   "metadata": {},
   "outputs": [
    {
     "name": "stdout",
     "output_type": "stream",
     "text": [
      "created network with layer sizes [784, 30, 10]\n"
     ]
    }
   ],
   "source": [
    "mynet = Network([784, 30, 10])\n",
    "print(\"created network with layer sizes {}\".format(mynet.layer_sizes))"
   ]
  },
  {
   "cell_type": "code",
   "execution_count": 193,
   "id": "f6a53333",
   "metadata": {},
   "outputs": [
    {
     "name": "stdout",
     "output_type": "stream",
     "text": [
      "error before training: 4.4999969114866305\n"
     ]
    }
   ],
   "source": [
    "initial_error = mynet.error(test_examples)\n",
    "print(\"error before training: {}\".format(initial_error))"
   ]
  },
  {
   "cell_type": "markdown",
   "id": "928cbba8",
   "metadata": {},
   "source": [
    "### Training the network"
   ]
  },
  {
   "cell_type": "code",
   "execution_count": 159,
   "id": "5b258cac",
   "metadata": {},
   "outputs": [
    {
     "ename": "UnicodeDecodeError",
     "evalue": "'ascii' codec can't decode byte 0x90 in position 614: ordinal not in range(128)",
     "output_type": "error",
     "traceback": [
      "\u001b[0;31m---------------------------------------------------------------------------\u001b[0m",
      "\u001b[0;31mUnicodeDecodeError\u001b[0m                        Traceback (most recent call last)",
      "\u001b[0;32m/var/folders/jr/n8bb02zj2jl65drfsq8pnl4m0000gn/T/ipykernel_7202/649943109.py\u001b[0m in \u001b[0;36m<module>\u001b[0;34m\u001b[0m\n\u001b[1;32m      1\u001b[0m \u001b[0;32mimport\u001b[0m \u001b[0mmnist_loader\u001b[0m\u001b[0;34m\u001b[0m\u001b[0;34m\u001b[0m\u001b[0m\n\u001b[0;32m----> 2\u001b[0;31m \u001b[0mtraining_data\u001b[0m\u001b[0;34m,\u001b[0m \u001b[0mvalidation_data\u001b[0m\u001b[0;34m,\u001b[0m \u001b[0mtest_data\u001b[0m \u001b[0;34m=\u001b[0m \u001b[0mmnist_loader\u001b[0m\u001b[0;34m.\u001b[0m\u001b[0mload_data_wrapper\u001b[0m\u001b[0;34m(\u001b[0m\u001b[0;34m)\u001b[0m\u001b[0;34m\u001b[0m\u001b[0;34m\u001b[0m\u001b[0m\n\u001b[0m",
      "\u001b[0;32m~/code/learning/neuralnet/mnist_loader.py\u001b[0m in \u001b[0;36mload_data_wrapper\u001b[0;34m()\u001b[0m\n\u001b[1;32m     66\u001b[0m     \u001b[0mturn\u001b[0m \u001b[0mout\u001b[0m \u001b[0mto\u001b[0m \u001b[0mbe\u001b[0m \u001b[0mthe\u001b[0m \u001b[0mmost\u001b[0m \u001b[0mconvenient\u001b[0m \u001b[0;32mfor\u001b[0m \u001b[0muse\u001b[0m \u001b[0;32min\u001b[0m \u001b[0mour\u001b[0m \u001b[0mneural\u001b[0m \u001b[0mnetwork\u001b[0m\u001b[0;34m\u001b[0m\u001b[0;34m\u001b[0m\u001b[0m\n\u001b[1;32m     67\u001b[0m     code.\"\"\"\n\u001b[0;32m---> 68\u001b[0;31m     \u001b[0mtr_d\u001b[0m\u001b[0;34m,\u001b[0m \u001b[0mva_d\u001b[0m\u001b[0;34m,\u001b[0m \u001b[0mte_d\u001b[0m \u001b[0;34m=\u001b[0m \u001b[0mload_data\u001b[0m\u001b[0;34m(\u001b[0m\u001b[0;34m)\u001b[0m\u001b[0;34m\u001b[0m\u001b[0;34m\u001b[0m\u001b[0m\n\u001b[0m\u001b[1;32m     69\u001b[0m     \u001b[0mtraining_inputs\u001b[0m \u001b[0;34m=\u001b[0m \u001b[0;34m[\u001b[0m\u001b[0mnp\u001b[0m\u001b[0;34m.\u001b[0m\u001b[0mreshape\u001b[0m\u001b[0;34m(\u001b[0m\u001b[0mx\u001b[0m\u001b[0;34m,\u001b[0m \u001b[0;34m(\u001b[0m\u001b[0;36m784\u001b[0m\u001b[0;34m,\u001b[0m \u001b[0;36m1\u001b[0m\u001b[0;34m)\u001b[0m\u001b[0;34m)\u001b[0m \u001b[0;32mfor\u001b[0m \u001b[0mx\u001b[0m \u001b[0;32min\u001b[0m \u001b[0mtr_d\u001b[0m\u001b[0;34m[\u001b[0m\u001b[0;36m0\u001b[0m\u001b[0;34m]\u001b[0m\u001b[0;34m]\u001b[0m\u001b[0;34m\u001b[0m\u001b[0;34m\u001b[0m\u001b[0m\n\u001b[1;32m     70\u001b[0m     \u001b[0mtraining_results\u001b[0m \u001b[0;34m=\u001b[0m \u001b[0;34m[\u001b[0m\u001b[0mvectorized_result\u001b[0m\u001b[0;34m(\u001b[0m\u001b[0my\u001b[0m\u001b[0;34m)\u001b[0m \u001b[0;32mfor\u001b[0m \u001b[0my\u001b[0m \u001b[0;32min\u001b[0m \u001b[0mtr_d\u001b[0m\u001b[0;34m[\u001b[0m\u001b[0;36m1\u001b[0m\u001b[0;34m]\u001b[0m\u001b[0;34m]\u001b[0m\u001b[0;34m\u001b[0m\u001b[0;34m\u001b[0m\u001b[0m\n",
      "\u001b[0;32m~/code/learning/neuralnet/mnist_loader.py\u001b[0m in \u001b[0;36mload_data\u001b[0;34m()\u001b[0m\n\u001b[1;32m     41\u001b[0m     \"\"\"\n\u001b[1;32m     42\u001b[0m     \u001b[0mf\u001b[0m \u001b[0;34m=\u001b[0m \u001b[0mgzip\u001b[0m\u001b[0;34m.\u001b[0m\u001b[0mopen\u001b[0m\u001b[0;34m(\u001b[0m\u001b[0;34m'./data/mnist.pkl.gz'\u001b[0m\u001b[0;34m,\u001b[0m \u001b[0;34m'rb'\u001b[0m\u001b[0;34m)\u001b[0m\u001b[0;34m\u001b[0m\u001b[0;34m\u001b[0m\u001b[0m\n\u001b[0;32m---> 43\u001b[0;31m     \u001b[0mtraining_data\u001b[0m\u001b[0;34m,\u001b[0m \u001b[0mvalidation_data\u001b[0m\u001b[0;34m,\u001b[0m \u001b[0mtest_data\u001b[0m \u001b[0;34m=\u001b[0m \u001b[0mpickle\u001b[0m\u001b[0;34m.\u001b[0m\u001b[0mload\u001b[0m\u001b[0;34m(\u001b[0m\u001b[0mf\u001b[0m\u001b[0;34m)\u001b[0m\u001b[0;34m\u001b[0m\u001b[0;34m\u001b[0m\u001b[0m\n\u001b[0m\u001b[1;32m     44\u001b[0m     \u001b[0mf\u001b[0m\u001b[0;34m.\u001b[0m\u001b[0mclose\u001b[0m\u001b[0;34m(\u001b[0m\u001b[0;34m)\u001b[0m\u001b[0;34m\u001b[0m\u001b[0;34m\u001b[0m\u001b[0m\n\u001b[1;32m     45\u001b[0m     \u001b[0;32mreturn\u001b[0m \u001b[0;34m(\u001b[0m\u001b[0mtraining_data\u001b[0m\u001b[0;34m,\u001b[0m \u001b[0mvalidation_data\u001b[0m\u001b[0;34m,\u001b[0m \u001b[0mtest_data\u001b[0m\u001b[0;34m)\u001b[0m\u001b[0;34m\u001b[0m\u001b[0;34m\u001b[0m\u001b[0m\n",
      "\u001b[0;31mUnicodeDecodeError\u001b[0m: 'ascii' codec can't decode byte 0x90 in position 614: ordinal not in range(128)"
     ]
    }
   ],
   "source": [
    "raw_"
   ]
  },
  {
   "cell_type": "code",
   "execution_count": null,
   "id": "0e899cca",
   "metadata": {},
   "outputs": [
    {
     "data": {
      "application/vnd.jupyter.widget-view+json": {
       "model_id": "42f75d1074b344399900eb8b54c0276f",
       "version_major": 2,
       "version_minor": 0
      },
      "text/plain": [
       "  0%|          | 0/1800000 [00:00<?, ?it/s]"
      ]
     },
     "metadata": {},
     "output_type": "display_data"
    }
   ],
   "source": [
    "error_plot = mynet.SGD(training_examples, 30, 10, 3.0, test_data=test_examples)\n",
    "\n",
    "fig = pyplot.figure()\n",
    "ax = pyplot.axes()\n",
    "\n",
    "ax.plot(range(len(error_plot)), error_plot)"
   ]
  },
  {
   "cell_type": "code",
   "execution_count": 158,
   "id": "c7de67b3",
   "metadata": {},
   "outputs": [
    {
     "data": {
      "text/plain": [
       "array([0., 1., 0., 1., 0., 1., 0., 0., 0., 0.])"
      ]
     },
     "execution_count": 158,
     "metadata": {},
     "output_type": "execute_result"
    }
   ],
   "source": [
    "np.round(mynet.feed_forward(test_examples[1][0]), 3)\n",
    "# test_examples[0][1]"
   ]
  },
  {
   "cell_type": "code",
   "execution_count": 164,
   "id": "731eacc2",
   "metadata": {},
   "outputs": [
    {
     "data": {
      "image/png": "[encoded data removed]",
      "text/plain": [
       "<Figure size 640x480 with 1 Axes>"
      ]
     },
     "metadata": {
      "needs_background": "light"
     },
     "output_type": "display_data"
    },
    {
     "data": {
      "image/png": "[encoded data removed]",
      "text/plain": [
       "<Figure size 640x480 with 1 Axes>"
      ]
     },
     "metadata": {
      "needs_background": "light"
     },
     "output_type": "display_data"
    },
    {
     "data": {
      "image/png": "[encoded data removed]",
      "text/plain": [
       "<Figure size 640x480 with 1 Axes>"
      ]
     },
     "metadata": {
      "needs_background": "light"
     },
     "output_type": "display_data"
    }
   ],
   "source": [
    "# Plot first images\n",
    "for i in range(3):  \n",
    "    pyplot.figure(figsize=(8, 6), dpi=80)\n",
    "    pyplot.subplot(330 + 1 + i)\n",
    "    pyplot.imshow(test_X[i].reshape(28, 28), cmap=pyplot.get_cmap('gray'))\n",
    "    pyplot.show()"
   ]
  },
  {
   "cell_type": "code",
   "execution_count": 194,
   "id": "869b6dde",
   "metadata": {
    "scrolled": true
   },
   "outputs": [
    {
     "data": {
      "application/vnd.jupyter.widget-view+json": {
       "model_id": "44f1f1920f6d490d873c298a09b4dcc5",
       "version_major": 2,
       "version_minor": 0
      },
      "text/plain": [
       "  0%|          | 0/500 [00:00<?, ?it/s]"
      ]
     },
     "metadata": {},
     "output_type": "display_data"
    },
    {
     "data": {
      "text/plain": [
       "3.082715108445005e-09"
      ]
     },
     "execution_count": 194,
     "metadata": {},
     "output_type": "execute_result"
    }
   ],
   "source": [
    "mynet.gradient_check()"
   ]
  },
  {
   "cell_type": "code",
   "execution_count": null,
   "id": "ce2184d6",
   "metadata": {},
   "outputs": [],
   "source": []
  }
 ],
 "metadata": {
  "kernelspec": {
   "display_name": "Python 3 (ipykernel)",
   "language": "python",
   "name": "python3"
  },
  "language_info": {
   "codemirror_mode": {
    "name": "ipython",
    "version": 3
   },
   "file_extension": ".py",
   "mimetype": "text/x-python",
   "name": "python",
   "nbconvert_exporter": "python",
   "pygments_lexer": "ipython3",
   "version": "3.8.12"
  }
 },
 "nbformat": 4,
 "nbformat_minor": 5
}
